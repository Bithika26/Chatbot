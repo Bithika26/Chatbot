{
 "cells": [
  {
   "cell_type": "code",
   "execution_count": 31,
   "metadata": {},
   "outputs": [],
   "source": [
    "import pandas as pd\n",
    "import numpy as np\n",
    "import matplotlib.pyplot as plt\n",
    "import seaborn as sns\n",
    "import pickle"
   ]
  },
  {
   "cell_type": "code",
   "execution_count": 32,
   "metadata": {},
   "outputs": [
    {
     "name": "stdout",
     "output_type": "stream",
     "text": [
      "Requirement already satisfied: tensorflow in c:\\users\\bithi\\onedrive\\desktop\\chat\\myenv\\lib\\site-packages (2.16.1)Note: you may need to restart the kernel to use updated packages.\n",
      "\n",
      "Requirement already satisfied: tensorflow-intel==2.16.1 in c:\\users\\bithi\\onedrive\\desktop\\chat\\myenv\\lib\\site-packages (from tensorflow) (2.16.1)\n",
      "Requirement already satisfied: absl-py>=1.0.0 in c:\\users\\bithi\\onedrive\\desktop\\chat\\myenv\\lib\\site-packages (from tensorflow-intel==2.16.1->tensorflow) (2.1.0)\n",
      "Requirement already satisfied: astunparse>=1.6.0 in c:\\users\\bithi\\onedrive\\desktop\\chat\\myenv\\lib\\site-packages (from tensorflow-intel==2.16.1->tensorflow) (1.6.3)\n",
      "Requirement already satisfied: flatbuffers>=23.5.26 in c:\\users\\bithi\\onedrive\\desktop\\chat\\myenv\\lib\\site-packages (from tensorflow-intel==2.16.1->tensorflow) (24.3.7)\n",
      "Requirement already satisfied: gast!=0.5.0,!=0.5.1,!=0.5.2,>=0.2.1 in c:\\users\\bithi\\onedrive\\desktop\\chat\\myenv\\lib\\site-packages (from tensorflow-intel==2.16.1->tensorflow) (0.5.4)\n",
      "Requirement already satisfied: google-pasta>=0.1.1 in c:\\users\\bithi\\onedrive\\desktop\\chat\\myenv\\lib\\site-packages (from tensorflow-intel==2.16.1->tensorflow) (0.2.0)\n",
      "Requirement already satisfied: h5py>=3.10.0 in c:\\users\\bithi\\onedrive\\desktop\\chat\\myenv\\lib\\site-packages (from tensorflow-intel==2.16.1->tensorflow) (3.10.0)\n",
      "Requirement already satisfied: libclang>=13.0.0 in c:\\users\\bithi\\onedrive\\desktop\\chat\\myenv\\lib\\site-packages (from tensorflow-intel==2.16.1->tensorflow) (16.0.6)\n",
      "Requirement already satisfied: ml-dtypes~=0.3.1 in c:\\users\\bithi\\onedrive\\desktop\\chat\\myenv\\lib\\site-packages (from tensorflow-intel==2.16.1->tensorflow) (0.3.2)\n",
      "Requirement already satisfied: opt-einsum>=2.3.2 in c:\\users\\bithi\\onedrive\\desktop\\chat\\myenv\\lib\\site-packages (from tensorflow-intel==2.16.1->tensorflow) (3.3.0)\n",
      "Requirement already satisfied: packaging in c:\\users\\bithi\\onedrive\\desktop\\chat\\myenv\\lib\\site-packages (from tensorflow-intel==2.16.1->tensorflow) (24.0)\n",
      "Requirement already satisfied: protobuf!=4.21.0,!=4.21.1,!=4.21.2,!=4.21.3,!=4.21.4,!=4.21.5,<5.0.0dev,>=3.20.3 in c:\\users\\bithi\\onedrive\\desktop\\chat\\myenv\\lib\\site-packages (from tensorflow-intel==2.16.1->tensorflow) (4.25.3)\n",
      "Requirement already satisfied: requests<3,>=2.21.0 in c:\\users\\bithi\\onedrive\\desktop\\chat\\myenv\\lib\\site-packages (from tensorflow-intel==2.16.1->tensorflow) (2.31.0)\n",
      "Requirement already satisfied: setuptools in c:\\users\\bithi\\onedrive\\desktop\\chat\\myenv\\lib\\site-packages (from tensorflow-intel==2.16.1->tensorflow) (65.5.0)\n",
      "Requirement already satisfied: six>=1.12.0 in c:\\users\\bithi\\onedrive\\desktop\\chat\\myenv\\lib\\site-packages (from tensorflow-intel==2.16.1->tensorflow) (1.16.0)\n",
      "Requirement already satisfied: termcolor>=1.1.0 in c:\\users\\bithi\\onedrive\\desktop\\chat\\myenv\\lib\\site-packages (from tensorflow-intel==2.16.1->tensorflow) (2.4.0)\n",
      "Requirement already satisfied: typing-extensions>=3.6.6 in c:\\users\\bithi\\onedrive\\desktop\\chat\\myenv\\lib\\site-packages (from tensorflow-intel==2.16.1->tensorflow) (4.10.0)\n",
      "Requirement already satisfied: wrapt>=1.11.0 in c:\\users\\bithi\\onedrive\\desktop\\chat\\myenv\\lib\\site-packages (from tensorflow-intel==2.16.1->tensorflow) (1.16.0)\n",
      "Requirement already satisfied: grpcio<2.0,>=1.24.3 in c:\\users\\bithi\\onedrive\\desktop\\chat\\myenv\\lib\\site-packages (from tensorflow-intel==2.16.1->tensorflow) (1.62.1)\n",
      "Requirement already satisfied: tensorboard<2.17,>=2.16 in c:\\users\\bithi\\onedrive\\desktop\\chat\\myenv\\lib\\site-packages (from tensorflow-intel==2.16.1->tensorflow) (2.16.2)\n",
      "Requirement already satisfied: keras>=3.0.0 in c:\\users\\bithi\\onedrive\\desktop\\chat\\myenv\\lib\\site-packages (from tensorflow-intel==2.16.1->tensorflow) (3.0.5)\n",
      "Requirement already satisfied: tensorflow-io-gcs-filesystem>=0.23.1 in c:\\users\\bithi\\onedrive\\desktop\\chat\\myenv\\lib\\site-packages (from tensorflow-intel==2.16.1->tensorflow) (0.31.0)\n",
      "Requirement already satisfied: numpy<2.0.0,>=1.23.5 in c:\\users\\bithi\\onedrive\\desktop\\chat\\myenv\\lib\\site-packages (from tensorflow-intel==2.16.1->tensorflow) (1.26.4)\n",
      "Requirement already satisfied: wheel<1.0,>=0.23.0 in c:\\users\\bithi\\onedrive\\desktop\\chat\\myenv\\lib\\site-packages (from astunparse>=1.6.0->tensorflow-intel==2.16.1->tensorflow) (0.43.0)\n",
      "Requirement already satisfied: rich in c:\\users\\bithi\\onedrive\\desktop\\chat\\myenv\\lib\\site-packages (from keras>=3.0.0->tensorflow-intel==2.16.1->tensorflow) (13.7.1)\n",
      "Requirement already satisfied: namex in c:\\users\\bithi\\onedrive\\desktop\\chat\\myenv\\lib\\site-packages (from keras>=3.0.0->tensorflow-intel==2.16.1->tensorflow) (0.0.7)\n",
      "Requirement already satisfied: dm-tree in c:\\users\\bithi\\onedrive\\desktop\\chat\\myenv\\lib\\site-packages (from keras>=3.0.0->tensorflow-intel==2.16.1->tensorflow) (0.1.8)\n",
      "Requirement already satisfied: charset-normalizer<4,>=2 in c:\\users\\bithi\\onedrive\\desktop\\chat\\myenv\\lib\\site-packages (from requests<3,>=2.21.0->tensorflow-intel==2.16.1->tensorflow) (3.3.2)\n",
      "Requirement already satisfied: idna<4,>=2.5 in c:\\users\\bithi\\onedrive\\desktop\\chat\\myenv\\lib\\site-packages (from requests<3,>=2.21.0->tensorflow-intel==2.16.1->tensorflow) (3.6)\n",
      "Requirement already satisfied: urllib3<3,>=1.21.1 in c:\\users\\bithi\\onedrive\\desktop\\chat\\myenv\\lib\\site-packages (from requests<3,>=2.21.0->tensorflow-intel==2.16.1->tensorflow) (2.2.1)\n",
      "Requirement already satisfied: certifi>=2017.4.17 in c:\\users\\bithi\\onedrive\\desktop\\chat\\myenv\\lib\\site-packages (from requests<3,>=2.21.0->tensorflow-intel==2.16.1->tensorflow) (2024.2.2)\n",
      "Requirement already satisfied: markdown>=2.6.8 in c:\\users\\bithi\\onedrive\\desktop\\chat\\myenv\\lib\\site-packages (from tensorboard<2.17,>=2.16->tensorflow-intel==2.16.1->tensorflow) (3.5.2)\n",
      "Requirement already satisfied: tensorboard-data-server<0.8.0,>=0.7.0 in c:\\users\\bithi\\onedrive\\desktop\\chat\\myenv\\lib\\site-packages (from tensorboard<2.17,>=2.16->tensorflow-intel==2.16.1->tensorflow) (0.7.2)\n",
      "Requirement already satisfied: werkzeug>=1.0.1 in c:\\users\\bithi\\onedrive\\desktop\\chat\\myenv\\lib\\site-packages (from tensorboard<2.17,>=2.16->tensorflow-intel==2.16.1->tensorflow) (3.0.1)\n",
      "Requirement already satisfied: MarkupSafe>=2.1.1 in c:\\users\\bithi\\onedrive\\desktop\\chat\\myenv\\lib\\site-packages (from werkzeug>=1.0.1->tensorboard<2.17,>=2.16->tensorflow-intel==2.16.1->tensorflow) (2.1.5)\n",
      "Requirement already satisfied: markdown-it-py>=2.2.0 in c:\\users\\bithi\\onedrive\\desktop\\chat\\myenv\\lib\\site-packages (from rich->keras>=3.0.0->tensorflow-intel==2.16.1->tensorflow) (3.0.0)\n",
      "Requirement already satisfied: pygments<3.0.0,>=2.13.0 in c:\\users\\bithi\\onedrive\\desktop\\chat\\myenv\\lib\\site-packages (from rich->keras>=3.0.0->tensorflow-intel==2.16.1->tensorflow) (2.17.2)\n",
      "Requirement already satisfied: mdurl~=0.1 in c:\\users\\bithi\\onedrive\\desktop\\chat\\myenv\\lib\\site-packages (from markdown-it-py>=2.2.0->rich->keras>=3.0.0->tensorflow-intel==2.16.1->tensorflow) (0.1.2)\n"
     ]
    }
   ],
   "source": [
    "pip install --upgrade  tensorflow"
   ]
  },
  {
   "cell_type": "code",
   "execution_count": 33,
   "metadata": {},
   "outputs": [],
   "source": [
    "chat=pd.read_json('intents.json')"
   ]
  },
  {
   "cell_type": "code",
   "execution_count": 34,
   "metadata": {},
   "outputs": [
    {
     "name": "stdout",
     "output_type": "stream",
     "text": [
      "is DataFrame\n"
     ]
    }
   ],
   "source": [
    "if isinstance(chat, pd.DataFrame):\n",
    "  print(\"is DataFrame\")\n",
    "else:\n",
    "  print('Not a DataFrame')"
   ]
  },
  {
   "cell_type": "code",
   "execution_count": 35,
   "metadata": {},
   "outputs": [
    {
     "name": "stdout",
     "output_type": "stream",
     "text": [
      "                                             intents\n",
      "0  {'tag': 'greeting', 'patterns': ['Hi', 'How ar...\n",
      "1  {'tag': 'goodbye', 'patterns': ['cya', 'see yo...\n",
      "2  {'tag': 'creator', 'patterns': ['what is the n...\n",
      "3  {'tag': 'name', 'patterns': ['name', 'your nam...\n",
      "4  {'tag': 'hours', 'patterns': ['timing of colle...\n",
      "Index(['intents'], dtype='object')\n"
     ]
    }
   ],
   "source": [
    "print(chat.head())\n",
    "print(chat.columns)"
   ]
  },
  {
   "cell_type": "code",
   "execution_count": 36,
   "metadata": {},
   "outputs": [
    {
     "name": "stdout",
     "output_type": "stream",
     "text": [
      "<class 'pandas.core.frame.DataFrame'>\n",
      "RangeIndex: 69 entries, 0 to 68\n",
      "Data columns (total 1 columns):\n",
      " #   Column   Non-Null Count  Dtype \n",
      "---  ------   --------------  ----- \n",
      " 0   intents  69 non-null     object\n",
      "dtypes: object(1)\n",
      "memory usage: 684.0+ bytes\n"
     ]
    }
   ],
   "source": [
    "chat.info()"
   ]
  },
  {
   "cell_type": "code",
   "execution_count": 37,
   "metadata": {},
   "outputs": [
    {
     "data": {
      "text/html": [
       "<div>\n",
       "<style scoped>\n",
       "    .dataframe tbody tr th:only-of-type {\n",
       "        vertical-align: middle;\n",
       "    }\n",
       "\n",
       "    .dataframe tbody tr th {\n",
       "        vertical-align: top;\n",
       "    }\n",
       "\n",
       "    .dataframe thead th {\n",
       "        text-align: right;\n",
       "    }\n",
       "</style>\n",
       "<table border=\"1\" class=\"dataframe\">\n",
       "  <thead>\n",
       "    <tr style=\"text-align: right;\">\n",
       "      <th></th>\n",
       "      <th>intents</th>\n",
       "    </tr>\n",
       "  </thead>\n",
       "  <tbody>\n",
       "    <tr>\n",
       "      <th>count</th>\n",
       "      <td>69</td>\n",
       "    </tr>\n",
       "    <tr>\n",
       "      <th>unique</th>\n",
       "      <td>69</td>\n",
       "    </tr>\n",
       "    <tr>\n",
       "      <th>top</th>\n",
       "      <td>{'tag': 'greeting', 'patterns': ['Hi', 'How ar...</td>\n",
       "    </tr>\n",
       "    <tr>\n",
       "      <th>freq</th>\n",
       "      <td>1</td>\n",
       "    </tr>\n",
       "  </tbody>\n",
       "</table>\n",
       "</div>"
      ],
      "text/plain": [
       "                                                  intents\n",
       "count                                                  69\n",
       "unique                                                 69\n",
       "top     {'tag': 'greeting', 'patterns': ['Hi', 'How ar...\n",
       "freq                                                    1"
      ]
     },
     "execution_count": 37,
     "metadata": {},
     "output_type": "execute_result"
    }
   ],
   "source": [
    "chat.describe()"
   ]
  },
  {
   "cell_type": "code",
   "execution_count": 38,
   "metadata": {},
   "outputs": [
    {
     "data": {
      "text/html": [
       "<div>\n",
       "<style scoped>\n",
       "    .dataframe tbody tr th:only-of-type {\n",
       "        vertical-align: middle;\n",
       "    }\n",
       "\n",
       "    .dataframe tbody tr th {\n",
       "        vertical-align: top;\n",
       "    }\n",
       "\n",
       "    .dataframe thead th {\n",
       "        text-align: right;\n",
       "    }\n",
       "</style>\n",
       "<table border=\"1\" class=\"dataframe\">\n",
       "  <thead>\n",
       "    <tr style=\"text-align: right;\">\n",
       "      <th></th>\n",
       "      <th>patterns</th>\n",
       "      <th>intents</th>\n",
       "    </tr>\n",
       "  </thead>\n",
       "  <tbody>\n",
       "    <tr>\n",
       "      <th>0</th>\n",
       "      <td>Hi</td>\n",
       "      <td>greeting</td>\n",
       "    </tr>\n",
       "    <tr>\n",
       "      <th>1</th>\n",
       "      <td>How are you?</td>\n",
       "      <td>greeting</td>\n",
       "    </tr>\n",
       "    <tr>\n",
       "      <th>2</th>\n",
       "      <td>Is anyone there?</td>\n",
       "      <td>greeting</td>\n",
       "    </tr>\n",
       "    <tr>\n",
       "      <th>3</th>\n",
       "      <td>Hello</td>\n",
       "      <td>greeting</td>\n",
       "    </tr>\n",
       "    <tr>\n",
       "      <th>4</th>\n",
       "      <td>Good day</td>\n",
       "      <td>greeting</td>\n",
       "    </tr>\n",
       "  </tbody>\n",
       "</table>\n",
       "</div>"
      ],
      "text/plain": [
       "           patterns   intents\n",
       "0                Hi  greeting\n",
       "1      How are you?  greeting\n",
       "2  Is anyone there?  greeting\n",
       "3             Hello  greeting\n",
       "4          Good day  greeting"
      ]
     },
     "execution_count": 38,
     "metadata": {},
     "output_type": "execute_result"
    }
   ],
   "source": [
    "df=pd.DataFrame(columns=['patterns','intents'])\n",
    "for i in chat['intents']:\n",
    "  for j in i['patterns']:\n",
    "    sentences = [j,i['tag']]\n",
    "    df.loc[len(df.index)] = sentences\n",
    "df.head()"
   ]
  },
  {
   "cell_type": "code",
   "execution_count": 39,
   "metadata": {},
   "outputs": [
    {
     "data": {
      "text/html": [
       "<div>\n",
       "<style scoped>\n",
       "    .dataframe tbody tr th:only-of-type {\n",
       "        vertical-align: middle;\n",
       "    }\n",
       "\n",
       "    .dataframe tbody tr th {\n",
       "        vertical-align: top;\n",
       "    }\n",
       "\n",
       "    .dataframe thead th {\n",
       "        text-align: right;\n",
       "    }\n",
       "</style>\n",
       "<table border=\"1\" class=\"dataframe\">\n",
       "  <thead>\n",
       "    <tr style=\"text-align: right;\">\n",
       "      <th></th>\n",
       "      <th>patterns</th>\n",
       "      <th>intents</th>\n",
       "    </tr>\n",
       "  </thead>\n",
       "  <tbody>\n",
       "    <tr>\n",
       "      <th>0</th>\n",
       "      <td>Hi</td>\n",
       "      <td>greeting</td>\n",
       "    </tr>\n",
       "    <tr>\n",
       "      <th>1</th>\n",
       "      <td>How are you?</td>\n",
       "      <td>greeting</td>\n",
       "    </tr>\n",
       "    <tr>\n",
       "      <th>2</th>\n",
       "      <td>Is anyone there?</td>\n",
       "      <td>greeting</td>\n",
       "    </tr>\n",
       "    <tr>\n",
       "      <th>3</th>\n",
       "      <td>Hello</td>\n",
       "      <td>greeting</td>\n",
       "    </tr>\n",
       "    <tr>\n",
       "      <th>4</th>\n",
       "      <td>Good day</td>\n",
       "      <td>greeting</td>\n",
       "    </tr>\n",
       "    <tr>\n",
       "      <th>...</th>\n",
       "      <td>...</td>\n",
       "      <td>...</td>\n",
       "    </tr>\n",
       "    <tr>\n",
       "      <th>513</th>\n",
       "      <td>Ask me a question</td>\n",
       "      <td>riddle</td>\n",
       "    </tr>\n",
       "    <tr>\n",
       "      <th>514</th>\n",
       "      <td>Riddle</td>\n",
       "      <td>riddle</td>\n",
       "    </tr>\n",
       "    <tr>\n",
       "      <th>515</th>\n",
       "      <td>how old are you</td>\n",
       "      <td>age</td>\n",
       "    </tr>\n",
       "    <tr>\n",
       "      <th>516</th>\n",
       "      <td>when were you made</td>\n",
       "      <td>age</td>\n",
       "    </tr>\n",
       "    <tr>\n",
       "      <th>517</th>\n",
       "      <td>what is your age</td>\n",
       "      <td>age</td>\n",
       "    </tr>\n",
       "  </tbody>\n",
       "</table>\n",
       "<p>518 rows × 2 columns</p>\n",
       "</div>"
      ],
      "text/plain": [
       "               patterns   intents\n",
       "0                    Hi  greeting\n",
       "1          How are you?  greeting\n",
       "2      Is anyone there?  greeting\n",
       "3                 Hello  greeting\n",
       "4              Good day  greeting\n",
       "..                  ...       ...\n",
       "513   Ask me a question    riddle\n",
       "514              Riddle    riddle\n",
       "515     how old are you       age\n",
       "516  when were you made       age\n",
       "517    what is your age       age\n",
       "\n",
       "[518 rows x 2 columns]"
      ]
     },
     "execution_count": 39,
     "metadata": {},
     "output_type": "execute_result"
    }
   ],
   "source": [
    "chats=df.copy()\n",
    "chats"
   ]
  },
  {
   "cell_type": "code",
   "execution_count": 40,
   "metadata": {},
   "outputs": [
    {
     "data": {
      "text/plain": [
       "patterns    518\n",
       "intents     518\n",
       "dtype: int64"
      ]
     },
     "execution_count": 40,
     "metadata": {},
     "output_type": "execute_result"
    }
   ],
   "source": [
    "chats.count()"
   ]
  },
  {
   "cell_type": "code",
   "execution_count": 41,
   "metadata": {},
   "outputs": [
    {
     "data": {
      "text/plain": [
       "(518, 2)"
      ]
     },
     "execution_count": 41,
     "metadata": {},
     "output_type": "execute_result"
    }
   ],
   "source": [
    "chats.shape"
   ]
  },
  {
   "cell_type": "code",
   "execution_count": 42,
   "metadata": {},
   "outputs": [
    {
     "name": "stdout",
     "output_type": "stream",
     "text": [
      "<class 'pandas.core.frame.DataFrame'>\n",
      "Index: 518 entries, 0 to 517\n",
      "Data columns (total 2 columns):\n",
      " #   Column    Non-Null Count  Dtype \n",
      "---  ------    --------------  ----- \n",
      " 0   patterns  518 non-null    object\n",
      " 1   intents   518 non-null    object\n",
      "dtypes: object(2)\n",
      "memory usage: 12.1+ KB\n"
     ]
    }
   ],
   "source": [
    "chats.info()"
   ]
  },
  {
   "cell_type": "code",
   "execution_count": 43,
   "metadata": {},
   "outputs": [
    {
     "name": "stdout",
     "output_type": "stream",
     "text": [
      "The Intents dataset has 66 classes\n",
      "The Patterns dataset has 497 classes\n"
     ]
    }
   ],
   "source": [
    "target_intents='intents'\n",
    "target_patterns='patterns'\n",
    "DsIntentName='Intents'\n",
    "DsPatternName='Patterns'\n",
    "print(f\"The {DsIntentName} dataset has {len(df[target_intents].unique())} classes\")\n",
    "print(f\"The {DsPatternName} dataset has {len(df[target_patterns].unique())} classes\")"
   ]
  },
  {
   "cell_type": "code",
   "execution_count": 44,
   "metadata": {},
   "outputs": [
    {
     "data": {
      "text/plain": [
       "patterns    0\n",
       "intents     0\n",
       "dtype: int64"
      ]
     },
     "execution_count": 44,
     "metadata": {},
     "output_type": "execute_result"
    }
   ],
   "source": [
    "chats.isnull().sum()"
   ]
  },
  {
   "cell_type": "code",
   "execution_count": 45,
   "metadata": {},
   "outputs": [
    {
     "name": "stderr",
     "output_type": "stream",
     "text": [
      "C:\\Users\\bithi\\AppData\\Local\\Temp\\ipykernel_9500\\1527839514.py:3: FutureWarning: \n",
      "\n",
      "Passing `palette` without assigning `hue` is deprecated and will be removed in v0.14.0. Assign the `x` variable to `hue` and set `legend=False` for the same effect.\n",
      "\n",
      "  sns.countplot(x=target_intents,data=chats,palette='viridis')\n"
     ]
    },
    {
     "data": {
      "image/png": "[encoded data removed]",
      "text/plain": [
       "<Figure size 1000x600 with 1 Axes>"
      ]
     },
     "metadata": {},
     "output_type": "display_data"
    }
   ],
   "source": [
    "sns.set(style=\"whitegrid\")\n",
    "plt.figure(figsize=(10,6))\n",
    "sns.countplot(x=target_intents,data=chats,palette='viridis')\n",
    "plt.title(f\"Distribution of classes in {DsIntentName} datasets\")\n",
    "plt.xlabel(\"target_intents\")\n",
    "plt.ylabel(\"Counts\")\n",
    "plt.show()\n"
   ]
  },
  {
   "cell_type": "code",
   "execution_count": 46,
   "metadata": {},
   "outputs": [
    {
     "data": {
      "text/plain": [
       "['greeting',\n",
       " 'goodbye',\n",
       " 'creator',\n",
       " 'name',\n",
       " 'hours',\n",
       " 'number',\n",
       " 'course',\n",
       " 'fees',\n",
       " 'location',\n",
       " 'hostel',\n",
       " 'event',\n",
       " 'document',\n",
       " 'floors',\n",
       " 'syllabus',\n",
       " 'library',\n",
       " 'infrastructure',\n",
       " 'canteen',\n",
       " 'menu',\n",
       " 'placement',\n",
       " 'ithod',\n",
       " 'computerhod',\n",
       " 'extchod',\n",
       " 'principal',\n",
       " 'sem',\n",
       " 'admission',\n",
       " 'scholarship',\n",
       " 'facilities',\n",
       " 'college intake',\n",
       " 'uniform',\n",
       " 'committee',\n",
       " 'random',\n",
       " 'swear',\n",
       " 'vacation',\n",
       " 'sports',\n",
       " 'salutaion',\n",
       " 'task',\n",
       " 'ragging',\n",
       " 'hod',\n",
       " 'google',\n",
       " 'thanks',\n",
       " 'options',\n",
       " 'jokes',\n",
       " 'Identity',\n",
       " 'datetime',\n",
       " 'whatsup',\n",
       " 'haha',\n",
       " 'programmer',\n",
       " 'insult',\n",
       " 'activity',\n",
       " 'exclaim',\n",
       " 'weather',\n",
       " 'karan',\n",
       " 'contact',\n",
       " 'appreciate',\n",
       " 'nicetty',\n",
       " 'no',\n",
       " 'news',\n",
       " 'inspire',\n",
       " 'cricket',\n",
       " 'song',\n",
       " 'greetreply',\n",
       " 'timer',\n",
       " 'covid19',\n",
       " 'suggest',\n",
       " 'riddle',\n",
       " 'age']"
      ]
     },
     "execution_count": 46,
     "metadata": {},
     "output_type": "execute_result"
    }
   ],
   "source": [
    "label = chats['intents'].unique().tolist()\n",
    "label = [m.strip() for m in label]\n",
    "label"
   ]
  },
  {
   "cell_type": "code",
   "execution_count": 47,
   "metadata": {},
   "outputs": [
    {
     "data": {
      "text/plain": [
       "{0: 'greeting',\n",
       " 1: 'goodbye',\n",
       " 2: 'creator',\n",
       " 3: 'name',\n",
       " 4: 'hours',\n",
       " 5: 'number',\n",
       " 6: 'course',\n",
       " 7: 'fees',\n",
       " 8: 'location',\n",
       " 9: 'hostel',\n",
       " 10: 'event',\n",
       " 11: 'document',\n",
       " 12: 'floors',\n",
       " 13: 'syllabus',\n",
       " 14: 'library',\n",
       " 15: 'infrastructure',\n",
       " 16: 'canteen',\n",
       " 17: 'menu',\n",
       " 18: 'placement',\n",
       " 19: 'ithod',\n",
       " 20: 'computerhod',\n",
       " 21: 'extchod',\n",
       " 22: 'principal',\n",
       " 23: 'sem',\n",
       " 24: 'admission',\n",
       " 25: 'scholarship',\n",
       " 26: 'facilities',\n",
       " 27: 'college intake',\n",
       " 28: 'uniform',\n",
       " 29: 'committee',\n",
       " 30: 'random',\n",
       " 31: 'swear',\n",
       " 32: 'vacation',\n",
       " 33: 'sports',\n",
       " 34: 'salutaion',\n",
       " 35: 'task',\n",
       " 36: 'ragging',\n",
       " 37: 'hod',\n",
       " 38: 'google',\n",
       " 39: 'thanks',\n",
       " 40: 'options',\n",
       " 41: 'jokes',\n",
       " 42: 'Identity',\n",
       " 43: 'datetime',\n",
       " 44: 'whatsup',\n",
       " 45: 'haha',\n",
       " 46: 'programmer',\n",
       " 47: 'insult',\n",
       " 48: 'activity',\n",
       " 49: 'exclaim',\n",
       " 50: 'weather',\n",
       " 51: 'karan',\n",
       " 52: 'contact',\n",
       " 53: 'appreciate',\n",
       " 54: 'nicetty',\n",
       " 55: 'no',\n",
       " 56: 'news',\n",
       " 57: 'inspire',\n",
       " 58: 'cricket',\n",
       " 59: 'song',\n",
       " 60: 'greetreply',\n",
       " 61: 'timer',\n",
       " 62: 'covid19',\n",
       " 63: 'suggest',\n",
       " 64: 'riddle',\n",
       " 65: 'age'}"
      ]
     },
     "execution_count": 47,
     "metadata": {},
     "output_type": "execute_result"
    }
   ],
   "source": [
    "n_label=len(label)\n",
    "dlabel = {id:label for id, label in enumerate(label)}\n",
    "idlabel= {label:id for id, label in enumerate(label)}\n",
    "dlabel"
   ]
  },
  {
   "cell_type": "code",
   "execution_count": 48,
   "metadata": {},
   "outputs": [
    {
     "data": {
      "text/plain": [
       "{'greeting': 0,\n",
       " 'goodbye': 1,\n",
       " 'creator': 2,\n",
       " 'name': 3,\n",
       " 'hours': 4,\n",
       " 'number': 5,\n",
       " 'course': 6,\n",
       " 'fees': 7,\n",
       " 'location': 8,\n",
       " 'hostel': 9,\n",
       " 'event': 10,\n",
       " 'document': 11,\n",
       " 'floors': 12,\n",
       " 'syllabus': 13,\n",
       " 'library': 14,\n",
       " 'infrastructure': 15,\n",
       " 'canteen': 16,\n",
       " 'menu': 17,\n",
       " 'placement': 18,\n",
       " 'ithod': 19,\n",
       " 'computerhod': 20,\n",
       " 'extchod': 21,\n",
       " 'principal': 22,\n",
       " 'sem': 23,\n",
       " 'admission': 24,\n",
       " 'scholarship': 25,\n",
       " 'facilities': 26,\n",
       " 'college intake': 27,\n",
       " 'uniform': 28,\n",
       " 'committee': 29,\n",
       " 'random': 30,\n",
       " 'swear': 31,\n",
       " 'vacation': 32,\n",
       " 'sports': 33,\n",
       " 'salutaion': 34,\n",
       " 'task': 35,\n",
       " 'ragging': 36,\n",
       " 'hod': 37,\n",
       " 'google': 38,\n",
       " 'thanks': 39,\n",
       " 'options': 40,\n",
       " 'jokes': 41,\n",
       " 'Identity': 42,\n",
       " 'datetime': 43,\n",
       " 'whatsup': 44,\n",
       " 'haha': 45,\n",
       " 'programmer': 46,\n",
       " 'insult': 47,\n",
       " 'activity': 48,\n",
       " 'exclaim': 49,\n",
       " 'weather': 50,\n",
       " 'karan': 51,\n",
       " 'contact': 52,\n",
       " 'appreciate': 53,\n",
       " 'nicetty': 54,\n",
       " 'no': 55,\n",
       " 'news': 56,\n",
       " 'inspire': 57,\n",
       " 'cricket': 58,\n",
       " 'song': 59,\n",
       " 'greetreply': 60,\n",
       " 'timer': 61,\n",
       " 'covid19': 62,\n",
       " 'suggest': 63,\n",
       " 'riddle': 64,\n",
       " 'age': 65}"
      ]
     },
     "execution_count": 48,
     "metadata": {},
     "output_type": "execute_result"
    }
   ],
   "source": [
    "idlabel"
   ]
  },
  {
   "cell_type": "code",
   "execution_count": 50,
   "metadata": {},
   "outputs": [
    {
     "data": {
      "text/html": [
       "<div>\n",
       "<style scoped>\n",
       "    .dataframe tbody tr th:only-of-type {\n",
       "        vertical-align: middle;\n",
       "    }\n",
       "\n",
       "    .dataframe tbody tr th {\n",
       "        vertical-align: top;\n",
       "    }\n",
       "\n",
       "    .dataframe thead th {\n",
       "        text-align: right;\n",
       "    }\n",
       "</style>\n",
       "<table border=\"1\" class=\"dataframe\">\n",
       "  <thead>\n",
       "    <tr style=\"text-align: right;\">\n",
       "      <th></th>\n",
       "      <th>patterns</th>\n",
       "      <th>intents</th>\n",
       "      <th>label</th>\n",
       "    </tr>\n",
       "  </thead>\n",
       "  <tbody>\n",
       "    <tr>\n",
       "      <th>0</th>\n",
       "      <td>Hi</td>\n",
       "      <td>greeting</td>\n",
       "      <td>0</td>\n",
       "    </tr>\n",
       "    <tr>\n",
       "      <th>1</th>\n",
       "      <td>How are you?</td>\n",
       "      <td>greeting</td>\n",
       "      <td>0</td>\n",
       "    </tr>\n",
       "    <tr>\n",
       "      <th>2</th>\n",
       "      <td>Is anyone there?</td>\n",
       "      <td>greeting</td>\n",
       "      <td>0</td>\n",
       "    </tr>\n",
       "    <tr>\n",
       "      <th>3</th>\n",
       "      <td>Hello</td>\n",
       "      <td>greeting</td>\n",
       "      <td>0</td>\n",
       "    </tr>\n",
       "    <tr>\n",
       "      <th>4</th>\n",
       "      <td>Good day</td>\n",
       "      <td>greeting</td>\n",
       "      <td>0</td>\n",
       "    </tr>\n",
       "  </tbody>\n",
       "</table>\n",
       "</div>"
      ],
      "text/plain": [
       "           patterns   intents  label\n",
       "0                Hi  greeting      0\n",
       "1      How are you?  greeting      0\n",
       "2  Is anyone there?  greeting      0\n",
       "3             Hello  greeting      0\n",
       "4          Good day  greeting      0"
      ]
     },
     "execution_count": 50,
     "metadata": {},
     "output_type": "execute_result"
    }
   ],
   "source": [
    "chats['label'] = chats['intents'].map(lambda x: idlabel[x.strip()])\n",
    "chats.head()"
   ]
  },
  {
   "cell_type": "code",
   "execution_count": 51,
   "metadata": {},
   "outputs": [
    {
     "name": "stdout",
     "output_type": "stream",
     "text": [
      "<class 'numpy.ndarray'>\n"
     ]
    }
   ],
   "source": [
    "X = np.array(chats['patterns'])\n",
    "X[:10]\n",
    "print(type(X))"
   ]
  },
  {
   "cell_type": "code",
   "execution_count": 52,
   "metadata": {},
   "outputs": [
    {
     "data": {
      "text/plain": [
       "array([0, 0, 0, 0, 0, 0, 0, 0, 0, 0], dtype=int64)"
      ]
     },
     "execution_count": 52,
     "metadata": {},
     "output_type": "execute_result"
    }
   ],
   "source": [
    "y = np.array(chats['label'])\n",
    "y[:10]"
   ]
  },
  {
   "cell_type": "code",
   "execution_count": 53,
   "metadata": {},
   "outputs": [
    {
     "name": "stdout",
     "output_type": "stream",
     "text": [
      "(103,)\n",
      "(415,)\n",
      "(103,)\n"
     ]
    }
   ],
   "source": [
    "from sklearn.model_selection import train_test_split\n",
    "X_train,X_test,y_train,y_test=train_test_split(X,y,test_size=0.8,random_state=40)\n",
    "print(X_train.shape)\n",
    "print(X_test.shape)\n",
    "print(y_train.shape)"
   ]
  },
  {
   "cell_type": "code",
   "execution_count": 54,
   "metadata": {},
   "outputs": [
    {
     "name": "stdout",
     "output_type": "stream",
     "text": [
      "Original X shape: (518, 1)\n",
      "Total size of X: 518\n"
     ]
    },
    {
     "name": "stderr",
     "output_type": "stream",
     "text": [
      "c:\\Users\\bithi\\OneDrive\\Desktop\\chat\\myenv\\Lib\\site-packages\\keras\\src\\layers\\rnn\\rnn.py:205: UserWarning: Do not pass an `input_shape`/`input_dim` argument to a layer. When using Sequential models, prefer using an `Input(shape)` object as the first layer in the model instead.\n",
      "  super().__init__(**kwargs)\n"
     ]
    },
    {
     "data": {
      "text/html": [
       "<pre style=\"white-space:pre;overflow-x:auto;line-height:normal;font-family:Menlo,'DejaVu Sans Mono',consolas,'Courier New',monospace\"><span style=\"font-weight: bold\">Model: \"sequential_1\"</span>\n",
       "</pre>\n"
      ],
      "text/plain": [
       "\u001b[1mModel: \"sequential_1\"\u001b[0m\n"
      ]
     },
     "metadata": {},
     "output_type": "display_data"
    },
    {
     "data": {
      "text/html": [
       "<pre style=\"white-space:pre;overflow-x:auto;line-height:normal;font-family:Menlo,'DejaVu Sans Mono',consolas,'Courier New',monospace\">┏━━━━━━━━━━━━━━━━━━━━━━━━━━━━━━━━━┳━━━━━━━━━━━━━━━━━━━━━━━━┳━━━━━━━━━━━━━━━┓\n",
       "┃<span style=\"font-weight: bold\"> Layer (type)                    </span>┃<span style=\"font-weight: bold\"> Output Shape           </span>┃<span style=\"font-weight: bold\">       Param # </span>┃\n",
       "┡━━━━━━━━━━━━━━━━━━━━━━━━━━━━━━━━━╇━━━━━━━━━━━━━━━━━━━━━━━━╇━━━━━━━━━━━━━━━┩\n",
       "│ lstm_2 (<span style=\"color: #0087ff; text-decoration-color: #0087ff\">LSTM</span>)                   │ (<span style=\"color: #00d7ff; text-decoration-color: #00d7ff\">None</span>, <span style=\"color: #00af00; text-decoration-color: #00af00\">100</span>, <span style=\"color: #00af00; text-decoration-color: #00af00\">512</span>)       │     <span style=\"color: #00af00; text-decoration-color: #00af00\">1,052,672</span> │\n",
       "├─────────────────────────────────┼────────────────────────┼───────────────┤\n",
       "│ dropout_1 (<span style=\"color: #0087ff; text-decoration-color: #0087ff\">Dropout</span>)             │ (<span style=\"color: #00d7ff; text-decoration-color: #00d7ff\">None</span>, <span style=\"color: #00af00; text-decoration-color: #00af00\">100</span>, <span style=\"color: #00af00; text-decoration-color: #00af00\">512</span>)       │             <span style=\"color: #00af00; text-decoration-color: #00af00\">0</span> │\n",
       "├─────────────────────────────────┼────────────────────────┼───────────────┤\n",
       "│ lstm_3 (<span style=\"color: #0087ff; text-decoration-color: #0087ff\">LSTM</span>)                   │ (<span style=\"color: #00d7ff; text-decoration-color: #00d7ff\">None</span>, <span style=\"color: #00af00; text-decoration-color: #00af00\">256</span>)            │       <span style=\"color: #00af00; text-decoration-color: #00af00\">787,456</span> │\n",
       "├─────────────────────────────────┼────────────────────────┼───────────────┤\n",
       "│ dense_2 (<span style=\"color: #0087ff; text-decoration-color: #0087ff\">Dense</span>)                 │ (<span style=\"color: #00d7ff; text-decoration-color: #00d7ff\">None</span>, <span style=\"color: #00af00; text-decoration-color: #00af00\">128</span>)            │        <span style=\"color: #00af00; text-decoration-color: #00af00\">32,896</span> │\n",
       "├─────────────────────────────────┼────────────────────────┼───────────────┤\n",
       "│ dense_3 (<span style=\"color: #0087ff; text-decoration-color: #0087ff\">Dense</span>)                 │ (<span style=\"color: #00d7ff; text-decoration-color: #00d7ff\">None</span>, <span style=\"color: #00af00; text-decoration-color: #00af00\">1</span>)              │           <span style=\"color: #00af00; text-decoration-color: #00af00\">129</span> │\n",
       "└─────────────────────────────────┴────────────────────────┴───────────────┘\n",
       "</pre>\n"
      ],
      "text/plain": [
       "┏━━━━━━━━━━━━━━━━━━━━━━━━━━━━━━━━━┳━━━━━━━━━━━━━━━━━━━━━━━━┳━━━━━━━━━━━━━━━┓\n",
       "┃\u001b[1m \u001b[0m\u001b[1mLayer (type)                   \u001b[0m\u001b[1m \u001b[0m┃\u001b[1m \u001b[0m\u001b[1mOutput Shape          \u001b[0m\u001b[1m \u001b[0m┃\u001b[1m \u001b[0m\u001b[1m      Param #\u001b[0m\u001b[1m \u001b[0m┃\n",
       "┡━━━━━━━━━━━━━━━━━━━━━━━━━━━━━━━━━╇━━━━━━━━━━━━━━━━━━━━━━━━╇━━━━━━━━━━━━━━━┩\n",
       "│ lstm_2 (\u001b[38;5;33mLSTM\u001b[0m)                   │ (\u001b[38;5;45mNone\u001b[0m, \u001b[38;5;34m100\u001b[0m, \u001b[38;5;34m512\u001b[0m)       │     \u001b[38;5;34m1,052,672\u001b[0m │\n",
       "├─────────────────────────────────┼────────────────────────┼───────────────┤\n",
       "│ dropout_1 (\u001b[38;5;33mDropout\u001b[0m)             │ (\u001b[38;5;45mNone\u001b[0m, \u001b[38;5;34m100\u001b[0m, \u001b[38;5;34m512\u001b[0m)       │             \u001b[38;5;34m0\u001b[0m │\n",
       "├─────────────────────────────────┼────────────────────────┼───────────────┤\n",
       "│ lstm_3 (\u001b[38;5;33mLSTM\u001b[0m)                   │ (\u001b[38;5;45mNone\u001b[0m, \u001b[38;5;34m256\u001b[0m)            │       \u001b[38;5;34m787,456\u001b[0m │\n",
       "├─────────────────────────────────┼────────────────────────┼───────────────┤\n",
       "│ dense_2 (\u001b[38;5;33mDense\u001b[0m)                 │ (\u001b[38;5;45mNone\u001b[0m, \u001b[38;5;34m128\u001b[0m)            │        \u001b[38;5;34m32,896\u001b[0m │\n",
       "├─────────────────────────────────┼────────────────────────┼───────────────┤\n",
       "│ dense_3 (\u001b[38;5;33mDense\u001b[0m)                 │ (\u001b[38;5;45mNone\u001b[0m, \u001b[38;5;34m1\u001b[0m)              │           \u001b[38;5;34m129\u001b[0m │\n",
       "└─────────────────────────────────┴────────────────────────┴───────────────┘\n"
      ]
     },
     "metadata": {},
     "output_type": "display_data"
    },
    {
     "data": {
      "text/html": [
       "<pre style=\"white-space:pre;overflow-x:auto;line-height:normal;font-family:Menlo,'DejaVu Sans Mono',consolas,'Courier New',monospace\"><span style=\"font-weight: bold\"> Total params: </span><span style=\"color: #00af00; text-decoration-color: #00af00\">1,873,153</span> (7.15 MB)\n",
       "</pre>\n"
      ],
      "text/plain": [
       "\u001b[1m Total params: \u001b[0m\u001b[38;5;34m1,873,153\u001b[0m (7.15 MB)\n"
      ]
     },
     "metadata": {},
     "output_type": "display_data"
    },
    {
     "data": {
      "text/html": [
       "<pre style=\"white-space:pre;overflow-x:auto;line-height:normal;font-family:Menlo,'DejaVu Sans Mono',consolas,'Courier New',monospace\"><span style=\"font-weight: bold\"> Trainable params: </span><span style=\"color: #00af00; text-decoration-color: #00af00\">1,873,153</span> (7.15 MB)\n",
       "</pre>\n"
      ],
      "text/plain": [
       "\u001b[1m Trainable params: \u001b[0m\u001b[38;5;34m1,873,153\u001b[0m (7.15 MB)\n"
      ]
     },
     "metadata": {},
     "output_type": "display_data"
    },
    {
     "data": {
      "text/html": [
       "<pre style=\"white-space:pre;overflow-x:auto;line-height:normal;font-family:Menlo,'DejaVu Sans Mono',consolas,'Courier New',monospace\"><span style=\"font-weight: bold\"> Non-trainable params: </span><span style=\"color: #00af00; text-decoration-color: #00af00\">0</span> (0.00 B)\n",
       "</pre>\n"
      ],
      "text/plain": [
       "\u001b[1m Non-trainable params: \u001b[0m\u001b[38;5;34m0\u001b[0m (0.00 B)\n"
      ]
     },
     "metadata": {},
     "output_type": "display_data"
    }
   ],
   "source": [
    "import numpy as np\n",
    "from tensorflow.keras.models import Sequential\n",
    "from tensorflow.keras.layers import LSTM, Dense, Dropout\n",
    "\n",
    "X = np.array(chats['patterns'])\n",
    "\n",
    "if len(X.shape) == 1:\n",
    "    X = np.expand_dims(X, axis=1)\n",
    "\n",
    "print(\"Original X shape:\", X.shape)\n",
    "print(\"Total size of X:\", X.size)\n",
    "\n",
    "n_steps = 100\n",
    "n_features = 1\n",
    "n_rows = X.shape[0] // n_steps\n",
    "X_trimmed = X[:n_rows * n_steps, :]\n",
    "X_reshaped = X_trimmed.reshape((n_rows, n_steps, n_features))\n",
    "\n",
    "model_lstm = Sequential()\n",
    "model_lstm.add(LSTM(units=512, activation=\"tanh\", input_shape=(n_steps, n_features), return_sequences=True))\n",
    "model_lstm.add(Dropout(0.5))\n",
    "model_lstm.add(LSTM(units=256, activation=\"tanh\", return_sequences=False))\n",
    "model_lstm.add(Dense(units=128, activation=\"relu\"))\n",
    "model_lstm.add(Dense(units=1))\n",
    "\n",
    "model_lstm.compile(optimizer=\"adam\", loss=\"mse\", metrics=['accuracy'])\n",
    "\n",
    "model_lstm.summary()\n"
   ]
  },
  {
   "cell_type": "code",
   "execution_count": 55,
   "metadata": {},
   "outputs": [
    {
     "name": "stdout",
     "output_type": "stream",
     "text": [
      "test (518, 1)\n",
      "\u001b[1m17/17\u001b[0m \u001b[32m━━━━━━━━━━━━━━━━━━━━\u001b[0m\u001b[37m\u001b[0m \u001b[1m1s\u001b[0m 29ms/step\n",
      "Mean Squared Error: 780.9836443041303\n",
      "Model Output Shape: (None, 1)\n",
      "Target Values Shape: (518, 1)\n",
      "Actual values: [ 0  0  0  0  0  0  0  0  0  0  1  1  1  1  1  1  1  1  1  1  1  1  2  2\n",
      "  2  2  2  2  2  2  2  2  2  2  2  2  2  2  3  3  3  3  3  3  3  3  3  3\n",
      "  3  3  3  4  4  4  4  4  4  4  4  4  4  4  4  4  4  4  4  4  5  5  5  5\n",
      "  5  5  5  5  5  5  5  5  5  5  5  6  6  6  6  6  6  6  6  6  6  6  6  6\n",
      "  6  6  6  6  6  6  6  6  6  6  6  6  6  6  7  7  7  7  7  7  7  7  7  7\n",
      "  7  7  7  7  7  7  7  7  7  7  7  7  7  8  8  8  8  8  8  8  8  8  8  8\n",
      "  8  8  8  9  9  9  9  9  9  9  9  9  9  9  9  9  9  9  9  9  9  9  9  9\n",
      "  9 10 10 10 10 10 10 10 10 10 10 10 11 11 11 11 11 11 11 11 11 11 11 11\n",
      " 11 12 12 12 12 12 12 12 13 13 13 13 13 13 13 14 14 14 14 14 14 14 14 14\n",
      " 14 14 14 14 14 15 15 15 16 16 16 16 16 16 16 16 16 16 16 17 17 17 17 17\n",
      " 17 17 18 18 18 18 18 18 18 18 18 19 19 19 19 20 20 20 20 21 21 21 21 22\n",
      " 22 22 22 22 22 22 23 23 23 23 23 23 23 23 23 23 23 24 24 24 24 24 24 25\n",
      " 25 25 25 25 25 25 25 25 25 25 25 25 25 25 25 25 25 25 25 25 25 25 25 25\n",
      " 25 26 26 26 26 26 27 27 27 27 27 27 27 27 27 28 28 28 28 28 28 28 28 28\n",
      " 29 29 29 29 29 29 30 30 30 31 31 31 31 31 31 31 31 31 32 32 32 32 32 32\n",
      " 32 32 32 32 32 32 33 33 33 33 33 33 33 34 34 34 34 34 34 34 34 34 34 34\n",
      " 34 34 35 35 35 35 35 35 36 36 36 36 36 36 36 36 36 36 37 37 37 38 38 38\n",
      "  0  0  0  0  0  0  0  0  0  1  1  1  1  1  1 39 39 39 39 39 40 40 40 40\n",
      " 40 41 41 41 42 42 43 43 43 43 43 43 43 44 44 44 44 44 45 45 45 45 45 46\n",
      " 46 46 47 47 47 48 48 49 49 49 49 49 50 50 50 51 51 51 51 52 52 52 52 53\n",
      " 53 53 53 54 54 55 55 56 56 56 57 57 57 58 58 59 59 59 59 59 60 60 60 60\n",
      " 60 61 62 63 63 63 63 63 64 64 64 65 65 65]\n",
      "Predicted values: [ 0.          0.          0.          0.          0.          0.\n",
      "  0.          0.          0.          0.         -0.0002582  -0.0002582\n",
      " -0.0002582  -0.0002582  -0.0002582  -0.0002582  -0.0002582  -0.0002582\n",
      " -0.0002582  -0.0002582  -0.0002582  -0.0002582  -0.00050555 -0.00050555\n",
      " -0.00050555 -0.00050555 -0.00050555 -0.00050555 -0.00050555 -0.00050555\n",
      " -0.00050555 -0.00050555 -0.00050555 -0.00050555 -0.00050555 -0.00050555\n",
      " -0.00050555 -0.00050555 -0.0007512  -0.0007512  -0.0007512  -0.0007512\n",
      " -0.0007512  -0.0007512  -0.0007512  -0.0007512  -0.0007512  -0.0007512\n",
      " -0.0007512  -0.0007512  -0.0007512  -0.00096478 -0.00096478 -0.00096478\n",
      " -0.00096478 -0.00096478 -0.00096478 -0.00096478 -0.00096478 -0.00096478\n",
      " -0.00096478 -0.00096478 -0.00096478 -0.00096478 -0.00096478 -0.00096478\n",
      " -0.00096478 -0.00096478 -0.00114005 -0.00114005 -0.00114005 -0.00114005\n",
      " -0.00114005 -0.00114005 -0.00114005 -0.00114005 -0.00114005 -0.00114005\n",
      " -0.00114005 -0.00114005 -0.00114005 -0.00114005 -0.00114005 -0.00128841\n",
      " -0.00128841 -0.00128841 -0.00128841 -0.00128841 -0.00128841 -0.00128841\n",
      " -0.00128841 -0.00128841 -0.00128841 -0.00128841 -0.00128841 -0.00128841\n",
      " -0.00128841 -0.00128841 -0.00128841 -0.00128841 -0.00128841 -0.00128841\n",
      " -0.00128841 -0.00128841 -0.00128841 -0.00128841 -0.00128841 -0.00128841\n",
      " -0.00128841 -0.00128841 -0.00139742 -0.00139742 -0.00139742 -0.00139742\n",
      " -0.00139742 -0.00139742 -0.00139742 -0.00139742 -0.00139742 -0.00139742\n",
      " -0.00139742 -0.00139742 -0.00139742 -0.00139742 -0.00139742 -0.00139742\n",
      " -0.00139742 -0.00139742 -0.00139742 -0.00139742 -0.00139742 -0.00139742\n",
      " -0.00139742 -0.00154756 -0.00154756 -0.00154756 -0.00154756 -0.00154756\n",
      " -0.00154756 -0.00154756 -0.00154756 -0.00154756 -0.00154756 -0.00154756\n",
      " -0.00154756 -0.00154756 -0.00154756 -0.00169503 -0.00169503 -0.00169503\n",
      " -0.00169503 -0.00169503 -0.00169503 -0.00169503 -0.00169503 -0.00169503\n",
      " -0.00169503 -0.00169503 -0.00169503 -0.00169503 -0.00169503 -0.00169503\n",
      " -0.00169503 -0.00169503 -0.00169503 -0.00169503 -0.00169503 -0.00169503\n",
      " -0.00169503 -0.0018265  -0.0018265  -0.0018265  -0.0018265  -0.0018265\n",
      " -0.0018265  -0.0018265  -0.0018265  -0.0018265  -0.0018265  -0.0018265\n",
      " -0.00195682 -0.00195682 -0.00195682 -0.00195682 -0.00195682 -0.00195682\n",
      " -0.00195682 -0.00195682 -0.00195682 -0.00195682 -0.00195682 -0.00195682\n",
      " -0.00195682 -0.00209235 -0.00209235 -0.00209235 -0.00209235 -0.00209235\n",
      " -0.00209235 -0.00209235 -0.00228453 -0.00228453 -0.00228453 -0.00228453\n",
      " -0.00228453 -0.00228453 -0.00228453 -0.00249338 -0.00249338 -0.00249338\n",
      " -0.00249338 -0.00249338 -0.00249338 -0.00249338 -0.00249338 -0.00249338\n",
      " -0.00249338 -0.00249338 -0.00249338 -0.00249338 -0.00249338 -0.00261915\n",
      " -0.00261915 -0.00261915 -0.00259743 -0.00259743 -0.00259743 -0.00259743\n",
      " -0.00259743 -0.00259743 -0.00259743 -0.00259743 -0.00259743 -0.00259743\n",
      " -0.00259743 -0.00254007 -0.00254007 -0.00254007 -0.00254007 -0.00254007\n",
      " -0.00254007 -0.00254007 -0.00238152 -0.00238152 -0.00238152 -0.00238152\n",
      " -0.00238152 -0.00238152 -0.00238152 -0.00238152 -0.00238152 -0.00226845\n",
      " -0.00226845 -0.00226845 -0.00226845 -0.00220908 -0.00220908 -0.00220908\n",
      " -0.00220908 -0.00215268 -0.00215268 -0.00215268 -0.00215268 -0.00210044\n",
      " -0.00210044 -0.00210044 -0.00210044 -0.00210044 -0.00210044 -0.00210044\n",
      " -0.00205329 -0.00205329 -0.00205329 -0.00205329 -0.00205329 -0.00205329\n",
      " -0.00205329 -0.00205329 -0.00205329 -0.00205329 -0.00205329 -0.00196001\n",
      " -0.00196001 -0.00196001 -0.00196001 -0.00196001 -0.00196001 -0.00186874\n",
      " -0.00186874 -0.00186874 -0.00186874 -0.00186874 -0.00186874 -0.00186874\n",
      " -0.00186874 -0.00186874 -0.00186874 -0.00186874 -0.00186874 -0.00186874\n",
      " -0.00186874 -0.00186874 -0.00186874 -0.00186874 -0.00186874 -0.00186874\n",
      " -0.00186874 -0.00186874 -0.00186874 -0.00186874 -0.00186874 -0.00186874\n",
      " -0.00186874 -0.00179806 -0.00179806 -0.00179806 -0.00179806 -0.00179806\n",
      " -0.00182002 -0.00182002 -0.00182002 -0.00182002 -0.00182002 -0.00182002\n",
      " -0.00182002 -0.00182002 -0.00182002 -0.00198114 -0.00198114 -0.00198114\n",
      " -0.00198114 -0.00198114 -0.00198114 -0.00198114 -0.00198114 -0.00198114\n",
      " -0.00212466 -0.00212466 -0.00212466 -0.00212466 -0.00212466 -0.00212466\n",
      " -0.00221928 -0.00221928 -0.00221928 -0.00236603 -0.00236603 -0.00236603\n",
      " -0.00236603 -0.00236603 -0.00236603 -0.00236603 -0.00236603 -0.00236603\n",
      " -0.00252706 -0.00252706 -0.00252706 -0.00252706 -0.00252706 -0.00252706\n",
      " -0.00252706 -0.00252706 -0.00252706 -0.00252706 -0.00252706 -0.00252706\n",
      " -0.0027363  -0.0027363  -0.0027363  -0.0027363  -0.0027363  -0.0027363\n",
      " -0.0027363  -0.00297677 -0.00297677 -0.00297677 -0.00297677 -0.00297677\n",
      " -0.00297677 -0.00297677 -0.00297677 -0.00297677 -0.00297677 -0.00297677\n",
      " -0.00297677 -0.00297677 -0.0032227  -0.0032227  -0.0032227  -0.0032227\n",
      " -0.0032227  -0.0032227  -0.00347333 -0.00347333 -0.00347333 -0.00347333\n",
      " -0.00347333 -0.00347333 -0.00347333 -0.00347333 -0.00347333 -0.00347333\n",
      " -0.00372806 -0.00372806 -0.00372806 -0.00394962 -0.00394962 -0.00394962\n",
      "  0.          0.          0.          0.          0.          0.\n",
      "  0.          0.          0.         -0.0002582  -0.0002582  -0.0002582\n",
      " -0.0002582  -0.0002582  -0.0002582  -0.00416452 -0.00416452 -0.00416452\n",
      " -0.00416452 -0.00416452 -0.0042993  -0.0042993  -0.0042993  -0.0042993\n",
      " -0.0042993  -0.00432423 -0.00432423 -0.00432423 -0.00432646 -0.00432646\n",
      " -0.00433412 -0.00433412 -0.00433412 -0.00433412 -0.00433412 -0.00433412\n",
      " -0.00433412 -0.00434714 -0.00434714 -0.00434714 -0.00434714 -0.00434714\n",
      " -0.00436535 -0.00436535 -0.00436535 -0.00436535 -0.00436535 -0.00438843\n",
      " -0.00438843 -0.00438843 -0.00441092 -0.00441092 -0.00441092 -0.00443819\n",
      " -0.00443819 -0.00447009 -0.00447009 -0.00447009 -0.00447009 -0.00447009\n",
      " -0.00450635 -0.00450635 -0.00450635 -0.00458399 -0.00458399 -0.00458399\n",
      " -0.00458399 -0.00468643 -0.00468643 -0.00468643 -0.00468643 -0.00475058\n",
      " -0.00475058 -0.00475058 -0.00475058 -0.00480074 -0.00480074 -0.00485114\n",
      " -0.00485114 -0.00490454 -0.00490454 -0.00490454 -0.00496065 -0.00496065\n",
      " -0.00496065 -0.00501945 -0.00501945 -0.00508066 -0.00508066 -0.00508066\n",
      " -0.00508066 -0.00508066 -0.00522197 -0.00522197 -0.00522197 -0.00522197\n",
      " -0.00522197 -0.00545941 -0.00569748 -0.00593661 -0.00593661 -0.00593661\n",
      " -0.00593661 -0.00593661 -0.00617698 -0.00617698 -0.00617698 -0.00641749\n",
      " -0.00641749 -0.00641749]\n"
     ]
    }
   ],
   "source": [
    "X_test = np.array(chats['label'])\n",
    "\n",
    "\n",
    "if len(X_test.shape) == 1:\n",
    "    X_test = np.expand_dims(X_test, axis=1)\n",
    "y_true = np.array(chats['label'])\n",
    "if len(y_true.shape) == 1:\n",
    "    y_true = np.expand_dims(y_true, axis=1)\n",
    "\n",
    "print(\"test\",X_test.shape)\n",
    "y_pre = model_lstm.predict(X_test)\n",
    "from sklearn.metrics import mean_squared_error\n",
    "\n",
    "mse = mean_squared_error(y_true, y_pre)\n",
    "print(\"Mean Squared Error:\", mse)\n",
    "print(\"Model Output Shape:\", model_lstm.output_shape)\n",
    "print(\"Target Values Shape:\", y_true.shape)\n",
    "print(\"Actual values:\", y_true.flatten())\n",
    "print(\"Predicted values:\", y_pre.flatten())"
   ]
  },
  {
   "cell_type": "code",
   "execution_count": 56,
   "metadata": {},
   "outputs": [
    {
     "name": "stdout",
     "output_type": "stream",
     "text": [
      "(518, 1)\n",
      "(415,)\n"
     ]
    }
   ],
   "source": [
    "print(y_pre.shape)\n",
    "print(y_test.shape)"
   ]
  },
  {
   "cell_type": "code",
   "execution_count": 57,
   "metadata": {},
   "outputs": [
    {
     "name": "stdout",
     "output_type": "stream",
     "text": [
      "0.03667953667953668\n"
     ]
    }
   ],
   "source": [
    "from sklearn.metrics import classification_report\n",
    "from sklearn.metrics import accuracy_score\n",
    "y_pred=y_pre.round()\n",
    "print(accuracy_score(y_true,y_pre.round()))"
   ]
  },
  {
   "cell_type": "code",
   "execution_count": 58,
   "metadata": {},
   "outputs": [
    {
     "name": "stdout",
     "output_type": "stream",
     "text": [
      "Classification Report:\n",
      "              precision    recall  f1-score   support\n",
      "\n",
      "           0       0.04      1.00      0.07        19\n",
      "           1       0.00      0.00      0.00        18\n",
      "           2       0.00      0.00      0.00        16\n",
      "           3       0.00      0.00      0.00        13\n",
      "           4       0.00      0.00      0.00        17\n",
      "           5       0.00      0.00      0.00        15\n",
      "           6       0.00      0.00      0.00        27\n",
      "           7       0.00      0.00      0.00        23\n",
      "           8       0.00      0.00      0.00        14\n",
      "           9       0.00      0.00      0.00        22\n",
      "          10       0.00      0.00      0.00        11\n",
      "          11       0.00      0.00      0.00        13\n",
      "          12       0.00      0.00      0.00         7\n",
      "          13       0.00      0.00      0.00         7\n",
      "          14       0.00      0.00      0.00        14\n",
      "          15       0.00      0.00      0.00         3\n",
      "          16       0.00      0.00      0.00        11\n",
      "          17       0.00      0.00      0.00         7\n",
      "          18       0.00      0.00      0.00         9\n",
      "          19       0.00      0.00      0.00         4\n",
      "          20       0.00      0.00      0.00         4\n",
      "          21       0.00      0.00      0.00         4\n",
      "          22       0.00      0.00      0.00         7\n",
      "          23       0.00      0.00      0.00        11\n",
      "          24       0.00      0.00      0.00         6\n",
      "          25       0.00      0.00      0.00        26\n",
      "          26       0.00      0.00      0.00         5\n",
      "          27       0.00      0.00      0.00         9\n",
      "          28       0.00      0.00      0.00         9\n",
      "          29       0.00      0.00      0.00         6\n",
      "          30       0.00      0.00      0.00         3\n",
      "          31       0.00      0.00      0.00         9\n",
      "          32       0.00      0.00      0.00        12\n",
      "          33       0.00      0.00      0.00         7\n",
      "          34       0.00      0.00      0.00        13\n",
      "          35       0.00      0.00      0.00         6\n",
      "          36       0.00      0.00      0.00        10\n",
      "          37       0.00      0.00      0.00         3\n",
      "          38       0.00      0.00      0.00         3\n",
      "          39       0.00      0.00      0.00         5\n",
      "          40       0.00      0.00      0.00         5\n",
      "          41       0.00      0.00      0.00         3\n",
      "          42       0.00      0.00      0.00         2\n",
      "          43       0.00      0.00      0.00         7\n",
      "          44       0.00      0.00      0.00         5\n",
      "          45       0.00      0.00      0.00         5\n",
      "          46       0.00      0.00      0.00         3\n",
      "          47       0.00      0.00      0.00         3\n",
      "          48       0.00      0.00      0.00         2\n",
      "          49       0.00      0.00      0.00         5\n",
      "          50       0.00      0.00      0.00         3\n",
      "          51       0.00      0.00      0.00         4\n",
      "          52       0.00      0.00      0.00         4\n",
      "          53       0.00      0.00      0.00         4\n",
      "          54       0.00      0.00      0.00         2\n",
      "          55       0.00      0.00      0.00         2\n",
      "          56       0.00      0.00      0.00         3\n",
      "          57       0.00      0.00      0.00         3\n",
      "          58       0.00      0.00      0.00         2\n",
      "          59       0.00      0.00      0.00         5\n",
      "          60       0.00      0.00      0.00         5\n",
      "          61       0.00      0.00      0.00         1\n",
      "          62       0.00      0.00      0.00         1\n",
      "          63       0.00      0.00      0.00         5\n",
      "          64       0.00      0.00      0.00         3\n",
      "          65       0.00      0.00      0.00         3\n",
      "\n",
      "    accuracy                           0.04       518\n",
      "   macro avg       0.00      0.02      0.00       518\n",
      "weighted avg       0.00      0.04      0.00       518\n",
      "\n"
     ]
    },
    {
     "name": "stderr",
     "output_type": "stream",
     "text": [
      "c:\\Users\\bithi\\OneDrive\\Desktop\\chat\\myenv\\Lib\\site-packages\\sklearn\\metrics\\_classification.py:1509: UndefinedMetricWarning: Precision is ill-defined and being set to 0.0 in labels with no predicted samples. Use `zero_division` parameter to control this behavior.\n",
      "  _warn_prf(average, modifier, f\"{metric.capitalize()} is\", len(result))\n",
      "c:\\Users\\bithi\\OneDrive\\Desktop\\chat\\myenv\\Lib\\site-packages\\sklearn\\metrics\\_classification.py:1509: UndefinedMetricWarning: Precision is ill-defined and being set to 0.0 in labels with no predicted samples. Use `zero_division` parameter to control this behavior.\n",
      "  _warn_prf(average, modifier, f\"{metric.capitalize()} is\", len(result))\n",
      "c:\\Users\\bithi\\OneDrive\\Desktop\\chat\\myenv\\Lib\\site-packages\\sklearn\\metrics\\_classification.py:1509: UndefinedMetricWarning: Precision is ill-defined and being set to 0.0 in labels with no predicted samples. Use `zero_division` parameter to control this behavior.\n",
      "  _warn_prf(average, modifier, f\"{metric.capitalize()} is\", len(result))\n"
     ]
    }
   ],
   "source": [
    "from sklearn.metrics import classification_report\n",
    "from sklearn.metrics import accuracy_score\n",
    "print(\"Classification Report:\")\n",
    "print(classification_report(y_true, y_pred))"
   ]
  },
  {
   "cell_type": "code",
   "execution_count": 2,
   "metadata": {},
   "outputs": [
    {
     "ename": "NameError",
     "evalue": "name 'hello' is not defined",
     "output_type": "error",
     "traceback": [
      "\u001b[1;31m---------------------------------------------------------------------------\u001b[0m",
      "\u001b[1;31mNameError\u001b[0m                                 Traceback (most recent call last)",
      "Cell \u001b[1;32mIn[2], line 1\u001b[0m\n\u001b[1;32m----> 1\u001b[0m \u001b[43mhello\u001b[49m\n",
      "\u001b[1;31mNameError\u001b[0m: name 'hello' is not defined"
     ]
    }
   ],
   "source": []
  }
 ],
 "metadata": {
  "kernelspec": {
   "display_name": "myenv",
   "language": "python",
   "name": "python3"
  },
  "language_info": {
   "codemirror_mode": {
    "name": "ipython",
    "version": 3
   },
   "file_extension": ".py",
   "mimetype": "text/x-python",
   "name": "python",
   "nbconvert_exporter": "python",
   "pygments_lexer": "ipython3",
   "version": "3.11.4"
  }
 },
 "nbformat": 4,
 "nbformat_minor": 2
}
